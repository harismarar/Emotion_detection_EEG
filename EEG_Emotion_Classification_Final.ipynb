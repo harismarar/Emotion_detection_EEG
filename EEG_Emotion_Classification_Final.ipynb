{
  "cells": [
    {
      "cell_type": "markdown",
      "metadata": {
        "id": "V1EKwbihFsg8"
      },
      "source": [
        "# The EEG Brainwave Dataset contains electronic brainwave signals from an EEG headset and is in temporal format.\n",
        "\n",
        "The challenge is: Can we predict emotional sentiment from brainwave readings?\n",
        "\n",
        "Import Packages"
      ]
    },
    {
      "cell_type": "code",
      "source": [
        "from google.colab import drive\n",
        "drive.mount('/content/drive')"
      ],
      "metadata": {
        "colab": {
          "base_uri": "https://localhost:8080/"
        },
        "id": "UMsWtvfddDPd",
        "outputId": "4c5afb79-9bd9-4e93-9799-1015f6fe15c8"
      },
      "execution_count": 7,
      "outputs": [
        {
          "output_type": "stream",
          "name": "stdout",
          "text": [
            "Mounted at /content/drive\n"
          ]
        }
      ]
    },
    {
      "cell_type": "code",
      "execution_count": 3,
      "metadata": {
        "id": "kG72V--VFshY"
      },
      "outputs": [],
      "source": [
        "import pandas as pd\n",
        "import numpy as np\n",
        "import matplotlib.pyplot as plt\n",
        "import seaborn as sns\n",
        "%matplotlib inline\n",
        "\n",
        "from sklearn.pipeline import Pipeline\n",
        "from sklearn.preprocessing import StandardScaler\n",
        "from sklearn.decomposition import PCA\n",
        "from sklearn.ensemble import RandomForestClassifier\n",
        "from sklearn.svm import LinearSVC\n",
        "from sklearn.model_selection import cross_val_score, train_test_split\n",
        "from sklearn.linear_model import LogisticRegression\n",
        "from sklearn.neural_network import MLPClassifier\n",
        "\n",
        "import xgboost as xgb\n",
        "\n",
        "import warnings\n",
        "warnings.filterwarnings('ignore')\n",
        "\n",
        "import os"
      ]
    },
    {
      "cell_type": "code",
      "execution_count": 8,
      "metadata": {
        "id": "w-Jm0hBbFshj"
      },
      "outputs": [],
      "source": [
        "data = pd.read_csv('/content/drive/MyDrive/Machine_learning/PROJECTS/EEG_Emotion_detection/emotions.csv')"
      ]
    },
    {
      "cell_type": "code",
      "execution_count": 9,
      "metadata": {
        "colab": {
          "base_uri": "https://localhost:8080/",
          "height": 317
        },
        "id": "b-8IdizEFshk",
        "outputId": "b4c9d8d0-a1a9-4ec3-d735-aee0e2911686"
      },
      "outputs": [
        {
          "output_type": "execute_result",
          "data": {
            "text/plain": [
              "   # mean_0_a  mean_1_a  mean_2_a  mean_3_a  mean_4_a  mean_d_0_a  mean_d_1_a  \\\n",
              "0        4.62      30.3    -356.0      15.6      26.3       1.070       0.411   \n",
              "1       28.80      33.1      32.0      25.8      22.8       6.550       1.680   \n",
              "2        8.90      29.4    -416.0      16.7      23.7      79.900       3.360   \n",
              "3       14.90      31.6    -143.0      19.8      24.3      -0.584      -0.284   \n",
              "4       28.30      31.3      45.2      27.3      24.5      34.800      -5.790   \n",
              "\n",
              "   mean_d_2_a  mean_d_3_a  mean_d_4_a  ...  fft_741_b  fft_742_b  fft_743_b  \\\n",
              "0      -15.70        2.06        3.15  ...       23.5       20.3       20.3   \n",
              "1        2.88        3.83       -4.82  ...      -23.3      -21.8      -21.8   \n",
              "2       90.20       89.90        2.03  ...      462.0     -233.0     -233.0   \n",
              "3        8.82        2.30       -1.97  ...      299.0     -243.0     -243.0   \n",
              "4        3.06       41.40        5.52  ...       12.0       38.1       38.1   \n",
              "\n",
              "   fft_744_b  fft_745_b  fft_746_b  fft_747_b  fft_748_b  fft_749_b     label  \n",
              "0       23.5     -215.0     280.00    -162.00    -162.00     280.00  NEGATIVE  \n",
              "1      -23.3      182.0       2.57     -31.60     -31.60       2.57   NEUTRAL  \n",
              "2      462.0     -267.0     281.00    -148.00    -148.00     281.00  POSITIVE  \n",
              "3      299.0      132.0     -12.40       9.53       9.53     -12.40  POSITIVE  \n",
              "4       12.0      119.0     -17.60      23.90      23.90     -17.60   NEUTRAL  \n",
              "\n",
              "[5 rows x 2549 columns]"
            ],
            "text/html": [
              "\n",
              "  <div id=\"df-9e404647-a678-4d30-8b17-45b2be7f8375\">\n",
              "    <div class=\"colab-df-container\">\n",
              "      <div>\n",
              "<style scoped>\n",
              "    .dataframe tbody tr th:only-of-type {\n",
              "        vertical-align: middle;\n",
              "    }\n",
              "\n",
              "    .dataframe tbody tr th {\n",
              "        vertical-align: top;\n",
              "    }\n",
              "\n",
              "    .dataframe thead th {\n",
              "        text-align: right;\n",
              "    }\n",
              "</style>\n",
              "<table border=\"1\" class=\"dataframe\">\n",
              "  <thead>\n",
              "    <tr style=\"text-align: right;\">\n",
              "      <th></th>\n",
              "      <th># mean_0_a</th>\n",
              "      <th>mean_1_a</th>\n",
              "      <th>mean_2_a</th>\n",
              "      <th>mean_3_a</th>\n",
              "      <th>mean_4_a</th>\n",
              "      <th>mean_d_0_a</th>\n",
              "      <th>mean_d_1_a</th>\n",
              "      <th>mean_d_2_a</th>\n",
              "      <th>mean_d_3_a</th>\n",
              "      <th>mean_d_4_a</th>\n",
              "      <th>...</th>\n",
              "      <th>fft_741_b</th>\n",
              "      <th>fft_742_b</th>\n",
              "      <th>fft_743_b</th>\n",
              "      <th>fft_744_b</th>\n",
              "      <th>fft_745_b</th>\n",
              "      <th>fft_746_b</th>\n",
              "      <th>fft_747_b</th>\n",
              "      <th>fft_748_b</th>\n",
              "      <th>fft_749_b</th>\n",
              "      <th>label</th>\n",
              "    </tr>\n",
              "  </thead>\n",
              "  <tbody>\n",
              "    <tr>\n",
              "      <th>0</th>\n",
              "      <td>4.62</td>\n",
              "      <td>30.3</td>\n",
              "      <td>-356.0</td>\n",
              "      <td>15.6</td>\n",
              "      <td>26.3</td>\n",
              "      <td>1.070</td>\n",
              "      <td>0.411</td>\n",
              "      <td>-15.70</td>\n",
              "      <td>2.06</td>\n",
              "      <td>3.15</td>\n",
              "      <td>...</td>\n",
              "      <td>23.5</td>\n",
              "      <td>20.3</td>\n",
              "      <td>20.3</td>\n",
              "      <td>23.5</td>\n",
              "      <td>-215.0</td>\n",
              "      <td>280.00</td>\n",
              "      <td>-162.00</td>\n",
              "      <td>-162.00</td>\n",
              "      <td>280.00</td>\n",
              "      <td>NEGATIVE</td>\n",
              "    </tr>\n",
              "    <tr>\n",
              "      <th>1</th>\n",
              "      <td>28.80</td>\n",
              "      <td>33.1</td>\n",
              "      <td>32.0</td>\n",
              "      <td>25.8</td>\n",
              "      <td>22.8</td>\n",
              "      <td>6.550</td>\n",
              "      <td>1.680</td>\n",
              "      <td>2.88</td>\n",
              "      <td>3.83</td>\n",
              "      <td>-4.82</td>\n",
              "      <td>...</td>\n",
              "      <td>-23.3</td>\n",
              "      <td>-21.8</td>\n",
              "      <td>-21.8</td>\n",
              "      <td>-23.3</td>\n",
              "      <td>182.0</td>\n",
              "      <td>2.57</td>\n",
              "      <td>-31.60</td>\n",
              "      <td>-31.60</td>\n",
              "      <td>2.57</td>\n",
              "      <td>NEUTRAL</td>\n",
              "    </tr>\n",
              "    <tr>\n",
              "      <th>2</th>\n",
              "      <td>8.90</td>\n",
              "      <td>29.4</td>\n",
              "      <td>-416.0</td>\n",
              "      <td>16.7</td>\n",
              "      <td>23.7</td>\n",
              "      <td>79.900</td>\n",
              "      <td>3.360</td>\n",
              "      <td>90.20</td>\n",
              "      <td>89.90</td>\n",
              "      <td>2.03</td>\n",
              "      <td>...</td>\n",
              "      <td>462.0</td>\n",
              "      <td>-233.0</td>\n",
              "      <td>-233.0</td>\n",
              "      <td>462.0</td>\n",
              "      <td>-267.0</td>\n",
              "      <td>281.00</td>\n",
              "      <td>-148.00</td>\n",
              "      <td>-148.00</td>\n",
              "      <td>281.00</td>\n",
              "      <td>POSITIVE</td>\n",
              "    </tr>\n",
              "    <tr>\n",
              "      <th>3</th>\n",
              "      <td>14.90</td>\n",
              "      <td>31.6</td>\n",
              "      <td>-143.0</td>\n",
              "      <td>19.8</td>\n",
              "      <td>24.3</td>\n",
              "      <td>-0.584</td>\n",
              "      <td>-0.284</td>\n",
              "      <td>8.82</td>\n",
              "      <td>2.30</td>\n",
              "      <td>-1.97</td>\n",
              "      <td>...</td>\n",
              "      <td>299.0</td>\n",
              "      <td>-243.0</td>\n",
              "      <td>-243.0</td>\n",
              "      <td>299.0</td>\n",
              "      <td>132.0</td>\n",
              "      <td>-12.40</td>\n",
              "      <td>9.53</td>\n",
              "      <td>9.53</td>\n",
              "      <td>-12.40</td>\n",
              "      <td>POSITIVE</td>\n",
              "    </tr>\n",
              "    <tr>\n",
              "      <th>4</th>\n",
              "      <td>28.30</td>\n",
              "      <td>31.3</td>\n",
              "      <td>45.2</td>\n",
              "      <td>27.3</td>\n",
              "      <td>24.5</td>\n",
              "      <td>34.800</td>\n",
              "      <td>-5.790</td>\n",
              "      <td>3.06</td>\n",
              "      <td>41.40</td>\n",
              "      <td>5.52</td>\n",
              "      <td>...</td>\n",
              "      <td>12.0</td>\n",
              "      <td>38.1</td>\n",
              "      <td>38.1</td>\n",
              "      <td>12.0</td>\n",
              "      <td>119.0</td>\n",
              "      <td>-17.60</td>\n",
              "      <td>23.90</td>\n",
              "      <td>23.90</td>\n",
              "      <td>-17.60</td>\n",
              "      <td>NEUTRAL</td>\n",
              "    </tr>\n",
              "  </tbody>\n",
              "</table>\n",
              "<p>5 rows × 2549 columns</p>\n",
              "</div>\n",
              "      <button class=\"colab-df-convert\" onclick=\"convertToInteractive('df-9e404647-a678-4d30-8b17-45b2be7f8375')\"\n",
              "              title=\"Convert this dataframe to an interactive table.\"\n",
              "              style=\"display:none;\">\n",
              "        \n",
              "  <svg xmlns=\"http://www.w3.org/2000/svg\" height=\"24px\"viewBox=\"0 0 24 24\"\n",
              "       width=\"24px\">\n",
              "    <path d=\"M0 0h24v24H0V0z\" fill=\"none\"/>\n",
              "    <path d=\"M18.56 5.44l.94 2.06.94-2.06 2.06-.94-2.06-.94-.94-2.06-.94 2.06-2.06.94zm-11 1L8.5 8.5l.94-2.06 2.06-.94-2.06-.94L8.5 2.5l-.94 2.06-2.06.94zm10 10l.94 2.06.94-2.06 2.06-.94-2.06-.94-.94-2.06-.94 2.06-2.06.94z\"/><path d=\"M17.41 7.96l-1.37-1.37c-.4-.4-.92-.59-1.43-.59-.52 0-1.04.2-1.43.59L10.3 9.45l-7.72 7.72c-.78.78-.78 2.05 0 2.83L4 21.41c.39.39.9.59 1.41.59.51 0 1.02-.2 1.41-.59l7.78-7.78 2.81-2.81c.8-.78.8-2.07 0-2.86zM5.41 20L4 18.59l7.72-7.72 1.47 1.35L5.41 20z\"/>\n",
              "  </svg>\n",
              "      </button>\n",
              "      \n",
              "  <style>\n",
              "    .colab-df-container {\n",
              "      display:flex;\n",
              "      flex-wrap:wrap;\n",
              "      gap: 12px;\n",
              "    }\n",
              "\n",
              "    .colab-df-convert {\n",
              "      background-color: #E8F0FE;\n",
              "      border: none;\n",
              "      border-radius: 50%;\n",
              "      cursor: pointer;\n",
              "      display: none;\n",
              "      fill: #1967D2;\n",
              "      height: 32px;\n",
              "      padding: 0 0 0 0;\n",
              "      width: 32px;\n",
              "    }\n",
              "\n",
              "    .colab-df-convert:hover {\n",
              "      background-color: #E2EBFA;\n",
              "      box-shadow: 0px 1px 2px rgba(60, 64, 67, 0.3), 0px 1px 3px 1px rgba(60, 64, 67, 0.15);\n",
              "      fill: #174EA6;\n",
              "    }\n",
              "\n",
              "    [theme=dark] .colab-df-convert {\n",
              "      background-color: #3B4455;\n",
              "      fill: #D2E3FC;\n",
              "    }\n",
              "\n",
              "    [theme=dark] .colab-df-convert:hover {\n",
              "      background-color: #434B5C;\n",
              "      box-shadow: 0px 1px 3px 1px rgba(0, 0, 0, 0.15);\n",
              "      filter: drop-shadow(0px 1px 2px rgba(0, 0, 0, 0.3));\n",
              "      fill: #FFFFFF;\n",
              "    }\n",
              "  </style>\n",
              "\n",
              "      <script>\n",
              "        const buttonEl =\n",
              "          document.querySelector('#df-9e404647-a678-4d30-8b17-45b2be7f8375 button.colab-df-convert');\n",
              "        buttonEl.style.display =\n",
              "          google.colab.kernel.accessAllowed ? 'block' : 'none';\n",
              "\n",
              "        async function convertToInteractive(key) {\n",
              "          const element = document.querySelector('#df-9e404647-a678-4d30-8b17-45b2be7f8375');\n",
              "          const dataTable =\n",
              "            await google.colab.kernel.invokeFunction('convertToInteractive',\n",
              "                                                     [key], {});\n",
              "          if (!dataTable) return;\n",
              "\n",
              "          const docLinkHtml = 'Like what you see? Visit the ' +\n",
              "            '<a target=\"_blank\" href=https://colab.research.google.com/notebooks/data_table.ipynb>data table notebook</a>'\n",
              "            + ' to learn more about interactive tables.';\n",
              "          element.innerHTML = '';\n",
              "          dataTable['output_type'] = 'display_data';\n",
              "          await google.colab.output.renderOutput(dataTable, element);\n",
              "          const docLink = document.createElement('div');\n",
              "          docLink.innerHTML = docLinkHtml;\n",
              "          element.appendChild(docLink);\n",
              "        }\n",
              "      </script>\n",
              "    </div>\n",
              "  </div>\n",
              "  "
            ]
          },
          "metadata": {},
          "execution_count": 9
        }
      ],
      "source": [
        "data.head()"
      ]
    },
    {
      "cell_type": "code",
      "execution_count": 10,
      "metadata": {
        "colab": {
          "base_uri": "https://localhost:8080/"
        },
        "id": "fDQNvwLqFshr",
        "outputId": "b36e06d6-672f-4a3f-af21-466c94811c66"
      },
      "outputs": [
        {
          "output_type": "execute_result",
          "data": {
            "text/plain": [
              "(2132, 2549)"
            ]
          },
          "metadata": {},
          "execution_count": 10
        }
      ],
      "source": [
        "data.shape"
      ]
    },
    {
      "cell_type": "code",
      "execution_count": 11,
      "metadata": {
        "colab": {
          "base_uri": "https://localhost:8080/"
        },
        "id": "urLZCw_VFshw",
        "outputId": "54f4e2b4-68ce-4799-8bd3-112c93db23d9"
      },
      "outputs": [
        {
          "output_type": "execute_result",
          "data": {
            "text/plain": [
              "# mean_0_a    float64\n",
              "mean_1_a      float64\n",
              "mean_2_a      float64\n",
              "mean_3_a      float64\n",
              "mean_4_a      float64\n",
              "               ...   \n",
              "fft_746_b     float64\n",
              "fft_747_b     float64\n",
              "fft_748_b     float64\n",
              "fft_749_b     float64\n",
              "label          object\n",
              "Length: 2549, dtype: object"
            ]
          },
          "metadata": {},
          "execution_count": 11
        }
      ],
      "source": [
        "data.dtypes"
      ]
    },
    {
      "cell_type": "code",
      "execution_count": null,
      "metadata": {
        "id": "t-sAmZG-Fshy"
      },
      "outputs": [],
      "source": [
        "#Descriptive Statistics"
      ]
    },
    {
      "cell_type": "code",
      "execution_count": 12,
      "metadata": {
        "colab": {
          "base_uri": "https://localhost:8080/",
          "height": 394
        },
        "id": "BKjdQrZuFshz",
        "outputId": "be95b18a-f6b4-4581-e22a-01b98c20e31e"
      },
      "outputs": [
        {
          "output_type": "execute_result",
          "data": {
            "text/plain": [
              "        # mean_0_a     mean_1_a     mean_2_a     mean_3_a     mean_4_a  \\\n",
              "count  2132.000000  2132.000000  2132.000000  2132.000000  2132.000000   \n",
              "mean     15.256914    27.012462  -104.975629    13.605898    24.150483   \n",
              "std      15.284621     9.265141   206.271960    16.874676    14.187340   \n",
              "min     -61.300000  -114.000000  -970.000000  -137.000000  -217.000000   \n",
              "25%       6.577500    26.075000  -195.000000     4.857500    23.600000   \n",
              "50%      14.100000    30.000000    14.950000    15.400000    25.200000   \n",
              "75%      27.700000    31.400000    29.600000    26.500000    26.800000   \n",
              "max     304.000000    42.300000   661.000000   206.000000   213.000000   \n",
              "\n",
              "        mean_d_0_a   mean_d_1_a   mean_d_2_a   mean_d_3_a   mean_d_4_a  ...  \\\n",
              "count  2132.000000  2132.000000  2132.000000  2132.000000  2132.000000  ...   \n",
              "mean      0.025378     0.052282     0.301655     0.036793     0.083567  ...   \n",
              "std      17.981796     8.509174    68.098894    17.010031    18.935378  ...   \n",
              "min    -218.000000  -255.000000 -1360.000000  -203.000000  -553.000000  ...   \n",
              "25%      -3.105000    -1.340000    -4.002500    -2.905000    -2.622500  ...   \n",
              "50%      -0.044600     0.132000     0.957500    -0.099750     0.146500  ...   \n",
              "75%       2.920000     1.540000     6.735000     2.535000     2.870000  ...   \n",
              "max     402.000000   257.000000  1150.000000   349.000000   444.000000  ...   \n",
              "\n",
              "         fft_740_b    fft_741_b    fft_742_b    fft_743_b    fft_744_b  \\\n",
              "count  2132.000000  2132.000000  2132.000000  2132.000000  2132.000000   \n",
              "mean    -22.938971   104.946111   -51.973647   -51.973647   104.946111   \n",
              "std     298.034311   212.532721   112.160233   112.160233   212.532721   \n",
              "min   -1180.000000  -921.000000  -504.000000  -504.000000  -921.000000   \n",
              "25%    -106.500000    -8.365000   -92.900000   -92.900000    -8.365000   \n",
              "50%      83.850000    12.150000   -21.800000   -21.800000    12.150000   \n",
              "75%     154.000000   177.000000    12.025000    12.025000   177.000000   \n",
              "max    1070.000000   843.000000  1490.000000  1490.000000   843.000000   \n",
              "\n",
              "         fft_745_b    fft_746_b    fft_747_b    fft_748_b    fft_749_b  \n",
              "count  2132.000000  2132.000000  2132.000000  2132.000000  2132.000000  \n",
              "mean     -6.934144    95.104886   -49.061255   -49.061255    95.104886  \n",
              "std     281.040552   203.194976   106.486317   106.486317   203.194976  \n",
              "min   -1160.000000 -1010.000000  -521.000000  -521.000000 -1010.000000  \n",
              "25%    -102.500000    -8.837500   -87.150000   -87.150000    -8.837500  \n",
              "50%      89.700000    13.400000   -24.100000   -24.100000    13.400000  \n",
              "75%     153.000000   149.250000    10.925000    10.925000   149.250000  \n",
              "max    1180.000000   888.000000  1670.000000  1670.000000   888.000000  \n",
              "\n",
              "[8 rows x 2548 columns]"
            ],
            "text/html": [
              "\n",
              "  <div id=\"df-767ac30b-b8bf-44f4-9747-c67cb530df09\">\n",
              "    <div class=\"colab-df-container\">\n",
              "      <div>\n",
              "<style scoped>\n",
              "    .dataframe tbody tr th:only-of-type {\n",
              "        vertical-align: middle;\n",
              "    }\n",
              "\n",
              "    .dataframe tbody tr th {\n",
              "        vertical-align: top;\n",
              "    }\n",
              "\n",
              "    .dataframe thead th {\n",
              "        text-align: right;\n",
              "    }\n",
              "</style>\n",
              "<table border=\"1\" class=\"dataframe\">\n",
              "  <thead>\n",
              "    <tr style=\"text-align: right;\">\n",
              "      <th></th>\n",
              "      <th># mean_0_a</th>\n",
              "      <th>mean_1_a</th>\n",
              "      <th>mean_2_a</th>\n",
              "      <th>mean_3_a</th>\n",
              "      <th>mean_4_a</th>\n",
              "      <th>mean_d_0_a</th>\n",
              "      <th>mean_d_1_a</th>\n",
              "      <th>mean_d_2_a</th>\n",
              "      <th>mean_d_3_a</th>\n",
              "      <th>mean_d_4_a</th>\n",
              "      <th>...</th>\n",
              "      <th>fft_740_b</th>\n",
              "      <th>fft_741_b</th>\n",
              "      <th>fft_742_b</th>\n",
              "      <th>fft_743_b</th>\n",
              "      <th>fft_744_b</th>\n",
              "      <th>fft_745_b</th>\n",
              "      <th>fft_746_b</th>\n",
              "      <th>fft_747_b</th>\n",
              "      <th>fft_748_b</th>\n",
              "      <th>fft_749_b</th>\n",
              "    </tr>\n",
              "  </thead>\n",
              "  <tbody>\n",
              "    <tr>\n",
              "      <th>count</th>\n",
              "      <td>2132.000000</td>\n",
              "      <td>2132.000000</td>\n",
              "      <td>2132.000000</td>\n",
              "      <td>2132.000000</td>\n",
              "      <td>2132.000000</td>\n",
              "      <td>2132.000000</td>\n",
              "      <td>2132.000000</td>\n",
              "      <td>2132.000000</td>\n",
              "      <td>2132.000000</td>\n",
              "      <td>2132.000000</td>\n",
              "      <td>...</td>\n",
              "      <td>2132.000000</td>\n",
              "      <td>2132.000000</td>\n",
              "      <td>2132.000000</td>\n",
              "      <td>2132.000000</td>\n",
              "      <td>2132.000000</td>\n",
              "      <td>2132.000000</td>\n",
              "      <td>2132.000000</td>\n",
              "      <td>2132.000000</td>\n",
              "      <td>2132.000000</td>\n",
              "      <td>2132.000000</td>\n",
              "    </tr>\n",
              "    <tr>\n",
              "      <th>mean</th>\n",
              "      <td>15.256914</td>\n",
              "      <td>27.012462</td>\n",
              "      <td>-104.975629</td>\n",
              "      <td>13.605898</td>\n",
              "      <td>24.150483</td>\n",
              "      <td>0.025378</td>\n",
              "      <td>0.052282</td>\n",
              "      <td>0.301655</td>\n",
              "      <td>0.036793</td>\n",
              "      <td>0.083567</td>\n",
              "      <td>...</td>\n",
              "      <td>-22.938971</td>\n",
              "      <td>104.946111</td>\n",
              "      <td>-51.973647</td>\n",
              "      <td>-51.973647</td>\n",
              "      <td>104.946111</td>\n",
              "      <td>-6.934144</td>\n",
              "      <td>95.104886</td>\n",
              "      <td>-49.061255</td>\n",
              "      <td>-49.061255</td>\n",
              "      <td>95.104886</td>\n",
              "    </tr>\n",
              "    <tr>\n",
              "      <th>std</th>\n",
              "      <td>15.284621</td>\n",
              "      <td>9.265141</td>\n",
              "      <td>206.271960</td>\n",
              "      <td>16.874676</td>\n",
              "      <td>14.187340</td>\n",
              "      <td>17.981796</td>\n",
              "      <td>8.509174</td>\n",
              "      <td>68.098894</td>\n",
              "      <td>17.010031</td>\n",
              "      <td>18.935378</td>\n",
              "      <td>...</td>\n",
              "      <td>298.034311</td>\n",
              "      <td>212.532721</td>\n",
              "      <td>112.160233</td>\n",
              "      <td>112.160233</td>\n",
              "      <td>212.532721</td>\n",
              "      <td>281.040552</td>\n",
              "      <td>203.194976</td>\n",
              "      <td>106.486317</td>\n",
              "      <td>106.486317</td>\n",
              "      <td>203.194976</td>\n",
              "    </tr>\n",
              "    <tr>\n",
              "      <th>min</th>\n",
              "      <td>-61.300000</td>\n",
              "      <td>-114.000000</td>\n",
              "      <td>-970.000000</td>\n",
              "      <td>-137.000000</td>\n",
              "      <td>-217.000000</td>\n",
              "      <td>-218.000000</td>\n",
              "      <td>-255.000000</td>\n",
              "      <td>-1360.000000</td>\n",
              "      <td>-203.000000</td>\n",
              "      <td>-553.000000</td>\n",
              "      <td>...</td>\n",
              "      <td>-1180.000000</td>\n",
              "      <td>-921.000000</td>\n",
              "      <td>-504.000000</td>\n",
              "      <td>-504.000000</td>\n",
              "      <td>-921.000000</td>\n",
              "      <td>-1160.000000</td>\n",
              "      <td>-1010.000000</td>\n",
              "      <td>-521.000000</td>\n",
              "      <td>-521.000000</td>\n",
              "      <td>-1010.000000</td>\n",
              "    </tr>\n",
              "    <tr>\n",
              "      <th>25%</th>\n",
              "      <td>6.577500</td>\n",
              "      <td>26.075000</td>\n",
              "      <td>-195.000000</td>\n",
              "      <td>4.857500</td>\n",
              "      <td>23.600000</td>\n",
              "      <td>-3.105000</td>\n",
              "      <td>-1.340000</td>\n",
              "      <td>-4.002500</td>\n",
              "      <td>-2.905000</td>\n",
              "      <td>-2.622500</td>\n",
              "      <td>...</td>\n",
              "      <td>-106.500000</td>\n",
              "      <td>-8.365000</td>\n",
              "      <td>-92.900000</td>\n",
              "      <td>-92.900000</td>\n",
              "      <td>-8.365000</td>\n",
              "      <td>-102.500000</td>\n",
              "      <td>-8.837500</td>\n",
              "      <td>-87.150000</td>\n",
              "      <td>-87.150000</td>\n",
              "      <td>-8.837500</td>\n",
              "    </tr>\n",
              "    <tr>\n",
              "      <th>50%</th>\n",
              "      <td>14.100000</td>\n",
              "      <td>30.000000</td>\n",
              "      <td>14.950000</td>\n",
              "      <td>15.400000</td>\n",
              "      <td>25.200000</td>\n",
              "      <td>-0.044600</td>\n",
              "      <td>0.132000</td>\n",
              "      <td>0.957500</td>\n",
              "      <td>-0.099750</td>\n",
              "      <td>0.146500</td>\n",
              "      <td>...</td>\n",
              "      <td>83.850000</td>\n",
              "      <td>12.150000</td>\n",
              "      <td>-21.800000</td>\n",
              "      <td>-21.800000</td>\n",
              "      <td>12.150000</td>\n",
              "      <td>89.700000</td>\n",
              "      <td>13.400000</td>\n",
              "      <td>-24.100000</td>\n",
              "      <td>-24.100000</td>\n",
              "      <td>13.400000</td>\n",
              "    </tr>\n",
              "    <tr>\n",
              "      <th>75%</th>\n",
              "      <td>27.700000</td>\n",
              "      <td>31.400000</td>\n",
              "      <td>29.600000</td>\n",
              "      <td>26.500000</td>\n",
              "      <td>26.800000</td>\n",
              "      <td>2.920000</td>\n",
              "      <td>1.540000</td>\n",
              "      <td>6.735000</td>\n",
              "      <td>2.535000</td>\n",
              "      <td>2.870000</td>\n",
              "      <td>...</td>\n",
              "      <td>154.000000</td>\n",
              "      <td>177.000000</td>\n",
              "      <td>12.025000</td>\n",
              "      <td>12.025000</td>\n",
              "      <td>177.000000</td>\n",
              "      <td>153.000000</td>\n",
              "      <td>149.250000</td>\n",
              "      <td>10.925000</td>\n",
              "      <td>10.925000</td>\n",
              "      <td>149.250000</td>\n",
              "    </tr>\n",
              "    <tr>\n",
              "      <th>max</th>\n",
              "      <td>304.000000</td>\n",
              "      <td>42.300000</td>\n",
              "      <td>661.000000</td>\n",
              "      <td>206.000000</td>\n",
              "      <td>213.000000</td>\n",
              "      <td>402.000000</td>\n",
              "      <td>257.000000</td>\n",
              "      <td>1150.000000</td>\n",
              "      <td>349.000000</td>\n",
              "      <td>444.000000</td>\n",
              "      <td>...</td>\n",
              "      <td>1070.000000</td>\n",
              "      <td>843.000000</td>\n",
              "      <td>1490.000000</td>\n",
              "      <td>1490.000000</td>\n",
              "      <td>843.000000</td>\n",
              "      <td>1180.000000</td>\n",
              "      <td>888.000000</td>\n",
              "      <td>1670.000000</td>\n",
              "      <td>1670.000000</td>\n",
              "      <td>888.000000</td>\n",
              "    </tr>\n",
              "  </tbody>\n",
              "</table>\n",
              "<p>8 rows × 2548 columns</p>\n",
              "</div>\n",
              "      <button class=\"colab-df-convert\" onclick=\"convertToInteractive('df-767ac30b-b8bf-44f4-9747-c67cb530df09')\"\n",
              "              title=\"Convert this dataframe to an interactive table.\"\n",
              "              style=\"display:none;\">\n",
              "        \n",
              "  <svg xmlns=\"http://www.w3.org/2000/svg\" height=\"24px\"viewBox=\"0 0 24 24\"\n",
              "       width=\"24px\">\n",
              "    <path d=\"M0 0h24v24H0V0z\" fill=\"none\"/>\n",
              "    <path d=\"M18.56 5.44l.94 2.06.94-2.06 2.06-.94-2.06-.94-.94-2.06-.94 2.06-2.06.94zm-11 1L8.5 8.5l.94-2.06 2.06-.94-2.06-.94L8.5 2.5l-.94 2.06-2.06.94zm10 10l.94 2.06.94-2.06 2.06-.94-2.06-.94-.94-2.06-.94 2.06-2.06.94z\"/><path d=\"M17.41 7.96l-1.37-1.37c-.4-.4-.92-.59-1.43-.59-.52 0-1.04.2-1.43.59L10.3 9.45l-7.72 7.72c-.78.78-.78 2.05 0 2.83L4 21.41c.39.39.9.59 1.41.59.51 0 1.02-.2 1.41-.59l7.78-7.78 2.81-2.81c.8-.78.8-2.07 0-2.86zM5.41 20L4 18.59l7.72-7.72 1.47 1.35L5.41 20z\"/>\n",
              "  </svg>\n",
              "      </button>\n",
              "      \n",
              "  <style>\n",
              "    .colab-df-container {\n",
              "      display:flex;\n",
              "      flex-wrap:wrap;\n",
              "      gap: 12px;\n",
              "    }\n",
              "\n",
              "    .colab-df-convert {\n",
              "      background-color: #E8F0FE;\n",
              "      border: none;\n",
              "      border-radius: 50%;\n",
              "      cursor: pointer;\n",
              "      display: none;\n",
              "      fill: #1967D2;\n",
              "      height: 32px;\n",
              "      padding: 0 0 0 0;\n",
              "      width: 32px;\n",
              "    }\n",
              "\n",
              "    .colab-df-convert:hover {\n",
              "      background-color: #E2EBFA;\n",
              "      box-shadow: 0px 1px 2px rgba(60, 64, 67, 0.3), 0px 1px 3px 1px rgba(60, 64, 67, 0.15);\n",
              "      fill: #174EA6;\n",
              "    }\n",
              "\n",
              "    [theme=dark] .colab-df-convert {\n",
              "      background-color: #3B4455;\n",
              "      fill: #D2E3FC;\n",
              "    }\n",
              "\n",
              "    [theme=dark] .colab-df-convert:hover {\n",
              "      background-color: #434B5C;\n",
              "      box-shadow: 0px 1px 3px 1px rgba(0, 0, 0, 0.15);\n",
              "      filter: drop-shadow(0px 1px 2px rgba(0, 0, 0, 0.3));\n",
              "      fill: #FFFFFF;\n",
              "    }\n",
              "  </style>\n",
              "\n",
              "      <script>\n",
              "        const buttonEl =\n",
              "          document.querySelector('#df-767ac30b-b8bf-44f4-9747-c67cb530df09 button.colab-df-convert');\n",
              "        buttonEl.style.display =\n",
              "          google.colab.kernel.accessAllowed ? 'block' : 'none';\n",
              "\n",
              "        async function convertToInteractive(key) {\n",
              "          const element = document.querySelector('#df-767ac30b-b8bf-44f4-9747-c67cb530df09');\n",
              "          const dataTable =\n",
              "            await google.colab.kernel.invokeFunction('convertToInteractive',\n",
              "                                                     [key], {});\n",
              "          if (!dataTable) return;\n",
              "\n",
              "          const docLinkHtml = 'Like what you see? Visit the ' +\n",
              "            '<a target=\"_blank\" href=https://colab.research.google.com/notebooks/data_table.ipynb>data table notebook</a>'\n",
              "            + ' to learn more about interactive tables.';\n",
              "          element.innerHTML = '';\n",
              "          dataTable['output_type'] = 'display_data';\n",
              "          await google.colab.output.renderOutput(dataTable, element);\n",
              "          const docLink = document.createElement('div');\n",
              "          docLink.innerHTML = docLinkHtml;\n",
              "          element.appendChild(docLink);\n",
              "        }\n",
              "      </script>\n",
              "    </div>\n",
              "  </div>\n",
              "  "
            ]
          },
          "metadata": {},
          "execution_count": 12
        }
      ],
      "source": [
        "data.describe()"
      ]
    },
    {
      "cell_type": "code",
      "execution_count": 13,
      "metadata": {
        "colab": {
          "base_uri": "https://localhost:8080/",
          "height": 514
        },
        "id": "-nN2kbQ3Fsh1",
        "outputId": "327e822a-df3b-4487-eef2-f79c1ab566ab"
      },
      "outputs": [
        {
          "output_type": "display_data",
          "data": {
            "text/plain": [
              "<Figure size 1200x500 with 1 Axes>"
            ],
            "image/png": "[encoded data removed]"
          },
          "metadata": {}
        }
      ],
      "source": [
        "# class distribution\n",
        "plt.figure(figsize=(12,5))\n",
        "sns.countplot(x=data.label, color='mediumseagreen')\n",
        "plt.title('Emotional sentiment class distribution', fontsize=16)\n",
        "plt.ylabel('Class Counts', fontsize=16)\n",
        "plt.xlabel('Class Label', fontsize=16)\n",
        "plt.xticks(rotation='vertical');"
      ]
    },
    {
      "cell_type": "markdown",
      "metadata": {
        "id": "r_3gOZloFsh4"
      },
      "source": [
        "# Correlation Between Attributes\n",
        "Correlation refers to the relationship between two variables and how they may or may not change together.\n",
        "The most common method for calculating correlation is Pearson’s Correlation Coefficient, that assumes a normal distribution of the attributes involved. A correlation of -1 or 1 shows a full negative or positive correlation respectively. Whereas a value of 0 shows no correlation at all."
      ]
    },
    {
      "cell_type": "code",
      "execution_count": 14,
      "metadata": {
        "id": "ZTLHZ5-mFsh7"
      },
      "outputs": [],
      "source": [
        "# Split the dataset into X and y\n",
        "X = data.drop('label', axis=1)\n",
        "y = data['label']"
      ]
    },
    {
      "cell_type": "code",
      "source": [
        "# Split the dataset into training and test sets\n",
        "X_train, X_test, y_train, y_test = train_test_split(X, y, test_size=0.3, random_state=42)\n"
      ],
      "metadata": {
        "id": "wzdZ8s3n-Nq4"
      },
      "execution_count": 15,
      "outputs": []
    },
    {
      "cell_type": "code",
      "execution_count": 16,
      "metadata": {
        "colab": {
          "base_uri": "https://localhost:8080/",
          "height": 522
        },
        "id": "RiaRL3V2Fsh8",
        "outputId": "2a4185f1-caa9-4267-919a-d1fb6e351e48"
      },
      "outputs": [
        {
          "output_type": "execute_result",
          "data": {
            "text/plain": [
              "            # mean_0_a  mean_1_a  mean_2_a  mean_3_a  mean_4_a  mean_d_0_a  \\\n",
              "# mean_0_a    1.000000  0.176578  0.429810  0.582697  0.178432   -0.000665   \n",
              "mean_1_a      0.176578  1.000000 -0.007202  0.571530  0.385041   -0.088608   \n",
              "mean_2_a      0.429810 -0.007202  1.000000  0.081567 -0.095696    0.015122   \n",
              "mean_3_a      0.582697  0.571530  0.081567  1.000000  0.220842   -0.117748   \n",
              "mean_4_a      0.178432  0.385041 -0.095696  0.220842  1.000000   -0.017196   \n",
              "...                ...       ...       ...       ...       ...         ...   \n",
              "fft_745_b     0.268983  0.153244  0.674195  0.103294 -0.039620    0.024944   \n",
              "fft_746_b    -0.220566 -0.096173 -0.728296 -0.061376  0.056452    0.002976   \n",
              "fft_747_b     0.196653  0.069532  0.565044  0.051216 -0.016933   -0.017169   \n",
              "fft_748_b     0.196653  0.069532  0.565044  0.051216 -0.016933   -0.017169   \n",
              "fft_749_b    -0.220566 -0.096173 -0.728296 -0.061376  0.056452    0.002976   \n",
              "\n",
              "            mean_d_1_a  mean_d_2_a  mean_d_3_a  mean_d_4_a  ...  fft_740_b  \\\n",
              "# mean_0_a    0.105961   -0.061046    0.135370    0.008472  ...   0.301672   \n",
              "mean_1_a     -0.007586   -0.050463   -0.119391   -0.017197  ...   0.130717   \n",
              "mean_2_a      0.014605   -0.004320    0.055625   -0.003564  ...   0.699461   \n",
              "mean_3_a      0.124462   -0.175592   -0.001782    0.017110  ...   0.133720   \n",
              "mean_4_a     -0.007570    0.025546   -0.033443   -0.020361  ...  -0.043602   \n",
              "...                ...         ...         ...         ...  ...        ...   \n",
              "fft_745_b    -0.043387    0.098389   -0.022019   -0.003329  ...   0.458558   \n",
              "fft_746_b    -0.001477   -0.061713    0.005671   -0.005395  ...  -0.493145   \n",
              "fft_747_b     0.003350    0.149472   -0.040408    0.003422  ...   0.375438   \n",
              "fft_748_b     0.003350    0.149472   -0.040408    0.003422  ...   0.375438   \n",
              "fft_749_b    -0.001477   -0.061713    0.005671   -0.005395  ...  -0.493145   \n",
              "\n",
              "            fft_741_b  fft_742_b  fft_743_b  fft_744_b  fft_745_b  fft_746_b  \\\n",
              "# mean_0_a  -0.245671   0.204764   0.204764  -0.245671   0.268983  -0.220566   \n",
              "mean_1_a    -0.047208   0.002549   0.002549  -0.047208   0.153244  -0.096173   \n",
              "mean_2_a    -0.742275   0.622567   0.622567  -0.742275   0.674195  -0.728296   \n",
              "mean_3_a    -0.067460   0.048202   0.048202  -0.067460   0.103294  -0.061376   \n",
              "mean_4_a     0.069458  -0.090163  -0.090163   0.069458  -0.039620   0.056452   \n",
              "...               ...        ...        ...        ...        ...        ...   \n",
              "fft_745_b   -0.431711   0.415781   0.415781  -0.431711   1.000000  -0.938696   \n",
              "fft_746_b    0.531019  -0.459876  -0.459876   0.531019  -0.938696   1.000000   \n",
              "fft_747_b   -0.355117   0.499272   0.499272  -0.355117   0.834622  -0.815108   \n",
              "fft_748_b   -0.355117   0.499272   0.499272  -0.355117   0.834622  -0.815108   \n",
              "fft_749_b    0.531019  -0.459876  -0.459876   0.531019  -0.938696   1.000000   \n",
              "\n",
              "            fft_747_b  fft_748_b  fft_749_b  \n",
              "# mean_0_a   0.196653   0.196653  -0.220566  \n",
              "mean_1_a     0.069532   0.069532  -0.096173  \n",
              "mean_2_a     0.565044   0.565044  -0.728296  \n",
              "mean_3_a     0.051216   0.051216  -0.061376  \n",
              "mean_4_a    -0.016933  -0.016933   0.056452  \n",
              "...               ...        ...        ...  \n",
              "fft_745_b    0.834622   0.834622  -0.938696  \n",
              "fft_746_b   -0.815108  -0.815108   1.000000  \n",
              "fft_747_b    1.000000   1.000000  -0.815108  \n",
              "fft_748_b    1.000000   1.000000  -0.815108  \n",
              "fft_749_b   -0.815108  -0.815108   1.000000  \n",
              "\n",
              "[2548 rows x 2548 columns]"
            ],
            "text/html": [
              "\n",
              "  <div id=\"df-84da0148-1523-4f3c-b980-3688865ea952\">\n",
              "    <div class=\"colab-df-container\">\n",
              "      <div>\n",
              "<style scoped>\n",
              "    .dataframe tbody tr th:only-of-type {\n",
              "        vertical-align: middle;\n",
              "    }\n",
              "\n",
              "    .dataframe tbody tr th {\n",
              "        vertical-align: top;\n",
              "    }\n",
              "\n",
              "    .dataframe thead th {\n",
              "        text-align: right;\n",
              "    }\n",
              "</style>\n",
              "<table border=\"1\" class=\"dataframe\">\n",
              "  <thead>\n",
              "    <tr style=\"text-align: right;\">\n",
              "      <th></th>\n",
              "      <th># mean_0_a</th>\n",
              "      <th>mean_1_a</th>\n",
              "      <th>mean_2_a</th>\n",
              "      <th>mean_3_a</th>\n",
              "      <th>mean_4_a</th>\n",
              "      <th>mean_d_0_a</th>\n",
              "      <th>mean_d_1_a</th>\n",
              "      <th>mean_d_2_a</th>\n",
              "      <th>mean_d_3_a</th>\n",
              "      <th>mean_d_4_a</th>\n",
              "      <th>...</th>\n",
              "      <th>fft_740_b</th>\n",
              "      <th>fft_741_b</th>\n",
              "      <th>fft_742_b</th>\n",
              "      <th>fft_743_b</th>\n",
              "      <th>fft_744_b</th>\n",
              "      <th>fft_745_b</th>\n",
              "      <th>fft_746_b</th>\n",
              "      <th>fft_747_b</th>\n",
              "      <th>fft_748_b</th>\n",
              "      <th>fft_749_b</th>\n",
              "    </tr>\n",
              "  </thead>\n",
              "  <tbody>\n",
              "    <tr>\n",
              "      <th># mean_0_a</th>\n",
              "      <td>1.000000</td>\n",
              "      <td>0.176578</td>\n",
              "      <td>0.429810</td>\n",
              "      <td>0.582697</td>\n",
              "      <td>0.178432</td>\n",
              "      <td>-0.000665</td>\n",
              "      <td>0.105961</td>\n",
              "      <td>-0.061046</td>\n",
              "      <td>0.135370</td>\n",
              "      <td>0.008472</td>\n",
              "      <td>...</td>\n",
              "      <td>0.301672</td>\n",
              "      <td>-0.245671</td>\n",
              "      <td>0.204764</td>\n",
              "      <td>0.204764</td>\n",
              "      <td>-0.245671</td>\n",
              "      <td>0.268983</td>\n",
              "      <td>-0.220566</td>\n",
              "      <td>0.196653</td>\n",
              "      <td>0.196653</td>\n",
              "      <td>-0.220566</td>\n",
              "    </tr>\n",
              "    <tr>\n",
              "      <th>mean_1_a</th>\n",
              "      <td>0.176578</td>\n",
              "      <td>1.000000</td>\n",
              "      <td>-0.007202</td>\n",
              "      <td>0.571530</td>\n",
              "      <td>0.385041</td>\n",
              "      <td>-0.088608</td>\n",
              "      <td>-0.007586</td>\n",
              "      <td>-0.050463</td>\n",
              "      <td>-0.119391</td>\n",
              "      <td>-0.017197</td>\n",
              "      <td>...</td>\n",
              "      <td>0.130717</td>\n",
              "      <td>-0.047208</td>\n",
              "      <td>0.002549</td>\n",
              "      <td>0.002549</td>\n",
              "      <td>-0.047208</td>\n",
              "      <td>0.153244</td>\n",
              "      <td>-0.096173</td>\n",
              "      <td>0.069532</td>\n",
              "      <td>0.069532</td>\n",
              "      <td>-0.096173</td>\n",
              "    </tr>\n",
              "    <tr>\n",
              "      <th>mean_2_a</th>\n",
              "      <td>0.429810</td>\n",
              "      <td>-0.007202</td>\n",
              "      <td>1.000000</td>\n",
              "      <td>0.081567</td>\n",
              "      <td>-0.095696</td>\n",
              "      <td>0.015122</td>\n",
              "      <td>0.014605</td>\n",
              "      <td>-0.004320</td>\n",
              "      <td>0.055625</td>\n",
              "      <td>-0.003564</td>\n",
              "      <td>...</td>\n",
              "      <td>0.699461</td>\n",
              "      <td>-0.742275</td>\n",
              "      <td>0.622567</td>\n",
              "      <td>0.622567</td>\n",
              "      <td>-0.742275</td>\n",
              "      <td>0.674195</td>\n",
              "      <td>-0.728296</td>\n",
              "      <td>0.565044</td>\n",
              "      <td>0.565044</td>\n",
              "      <td>-0.728296</td>\n",
              "    </tr>\n",
              "    <tr>\n",
              "      <th>mean_3_a</th>\n",
              "      <td>0.582697</td>\n",
              "      <td>0.571530</td>\n",
              "      <td>0.081567</td>\n",
              "      <td>1.000000</td>\n",
              "      <td>0.220842</td>\n",
              "      <td>-0.117748</td>\n",
              "      <td>0.124462</td>\n",
              "      <td>-0.175592</td>\n",
              "      <td>-0.001782</td>\n",
              "      <td>0.017110</td>\n",
              "      <td>...</td>\n",
              "      <td>0.133720</td>\n",
              "      <td>-0.067460</td>\n",
              "      <td>0.048202</td>\n",
              "      <td>0.048202</td>\n",
              "      <td>-0.067460</td>\n",
              "      <td>0.103294</td>\n",
              "      <td>-0.061376</td>\n",
              "      <td>0.051216</td>\n",
              "      <td>0.051216</td>\n",
              "      <td>-0.061376</td>\n",
              "    </tr>\n",
              "    <tr>\n",
              "      <th>mean_4_a</th>\n",
              "      <td>0.178432</td>\n",
              "      <td>0.385041</td>\n",
              "      <td>-0.095696</td>\n",
              "      <td>0.220842</td>\n",
              "      <td>1.000000</td>\n",
              "      <td>-0.017196</td>\n",
              "      <td>-0.007570</td>\n",
              "      <td>0.025546</td>\n",
              "      <td>-0.033443</td>\n",
              "      <td>-0.020361</td>\n",
              "      <td>...</td>\n",
              "      <td>-0.043602</td>\n",
              "      <td>0.069458</td>\n",
              "      <td>-0.090163</td>\n",
              "      <td>-0.090163</td>\n",
              "      <td>0.069458</td>\n",
              "      <td>-0.039620</td>\n",
              "      <td>0.056452</td>\n",
              "      <td>-0.016933</td>\n",
              "      <td>-0.016933</td>\n",
              "      <td>0.056452</td>\n",
              "    </tr>\n",
              "    <tr>\n",
              "      <th>...</th>\n",
              "      <td>...</td>\n",
              "      <td>...</td>\n",
              "      <td>...</td>\n",
              "      <td>...</td>\n",
              "      <td>...</td>\n",
              "      <td>...</td>\n",
              "      <td>...</td>\n",
              "      <td>...</td>\n",
              "      <td>...</td>\n",
              "      <td>...</td>\n",
              "      <td>...</td>\n",
              "      <td>...</td>\n",
              "      <td>...</td>\n",
              "      <td>...</td>\n",
              "      <td>...</td>\n",
              "      <td>...</td>\n",
              "      <td>...</td>\n",
              "      <td>...</td>\n",
              "      <td>...</td>\n",
              "      <td>...</td>\n",
              "      <td>...</td>\n",
              "    </tr>\n",
              "    <tr>\n",
              "      <th>fft_745_b</th>\n",
              "      <td>0.268983</td>\n",
              "      <td>0.153244</td>\n",
              "      <td>0.674195</td>\n",
              "      <td>0.103294</td>\n",
              "      <td>-0.039620</td>\n",
              "      <td>0.024944</td>\n",
              "      <td>-0.043387</td>\n",
              "      <td>0.098389</td>\n",
              "      <td>-0.022019</td>\n",
              "      <td>-0.003329</td>\n",
              "      <td>...</td>\n",
              "      <td>0.458558</td>\n",
              "      <td>-0.431711</td>\n",
              "      <td>0.415781</td>\n",
              "      <td>0.415781</td>\n",
              "      <td>-0.431711</td>\n",
              "      <td>1.000000</td>\n",
              "      <td>-0.938696</td>\n",
              "      <td>0.834622</td>\n",
              "      <td>0.834622</td>\n",
              "      <td>-0.938696</td>\n",
              "    </tr>\n",
              "    <tr>\n",
              "      <th>fft_746_b</th>\n",
              "      <td>-0.220566</td>\n",
              "      <td>-0.096173</td>\n",
              "      <td>-0.728296</td>\n",
              "      <td>-0.061376</td>\n",
              "      <td>0.056452</td>\n",
              "      <td>0.002976</td>\n",
              "      <td>-0.001477</td>\n",
              "      <td>-0.061713</td>\n",
              "      <td>0.005671</td>\n",
              "      <td>-0.005395</td>\n",
              "      <td>...</td>\n",
              "      <td>-0.493145</td>\n",
              "      <td>0.531019</td>\n",
              "      <td>-0.459876</td>\n",
              "      <td>-0.459876</td>\n",
              "      <td>0.531019</td>\n",
              "      <td>-0.938696</td>\n",
              "      <td>1.000000</td>\n",
              "      <td>-0.815108</td>\n",
              "      <td>-0.815108</td>\n",
              "      <td>1.000000</td>\n",
              "    </tr>\n",
              "    <tr>\n",
              "      <th>fft_747_b</th>\n",
              "      <td>0.196653</td>\n",
              "      <td>0.069532</td>\n",
              "      <td>0.565044</td>\n",
              "      <td>0.051216</td>\n",
              "      <td>-0.016933</td>\n",
              "      <td>-0.017169</td>\n",
              "      <td>0.003350</td>\n",
              "      <td>0.149472</td>\n",
              "      <td>-0.040408</td>\n",
              "      <td>0.003422</td>\n",
              "      <td>...</td>\n",
              "      <td>0.375438</td>\n",
              "      <td>-0.355117</td>\n",
              "      <td>0.499272</td>\n",
              "      <td>0.499272</td>\n",
              "      <td>-0.355117</td>\n",
              "      <td>0.834622</td>\n",
              "      <td>-0.815108</td>\n",
              "      <td>1.000000</td>\n",
              "      <td>1.000000</td>\n",
              "      <td>-0.815108</td>\n",
              "    </tr>\n",
              "    <tr>\n",
              "      <th>fft_748_b</th>\n",
              "      <td>0.196653</td>\n",
              "      <td>0.069532</td>\n",
              "      <td>0.565044</td>\n",
              "      <td>0.051216</td>\n",
              "      <td>-0.016933</td>\n",
              "      <td>-0.017169</td>\n",
              "      <td>0.003350</td>\n",
              "      <td>0.149472</td>\n",
              "      <td>-0.040408</td>\n",
              "      <td>0.003422</td>\n",
              "      <td>...</td>\n",
              "      <td>0.375438</td>\n",
              "      <td>-0.355117</td>\n",
              "      <td>0.499272</td>\n",
              "      <td>0.499272</td>\n",
              "      <td>-0.355117</td>\n",
              "      <td>0.834622</td>\n",
              "      <td>-0.815108</td>\n",
              "      <td>1.000000</td>\n",
              "      <td>1.000000</td>\n",
              "      <td>-0.815108</td>\n",
              "    </tr>\n",
              "    <tr>\n",
              "      <th>fft_749_b</th>\n",
              "      <td>-0.220566</td>\n",
              "      <td>-0.096173</td>\n",
              "      <td>-0.728296</td>\n",
              "      <td>-0.061376</td>\n",
              "      <td>0.056452</td>\n",
              "      <td>0.002976</td>\n",
              "      <td>-0.001477</td>\n",
              "      <td>-0.061713</td>\n",
              "      <td>0.005671</td>\n",
              "      <td>-0.005395</td>\n",
              "      <td>...</td>\n",
              "      <td>-0.493145</td>\n",
              "      <td>0.531019</td>\n",
              "      <td>-0.459876</td>\n",
              "      <td>-0.459876</td>\n",
              "      <td>0.531019</td>\n",
              "      <td>-0.938696</td>\n",
              "      <td>1.000000</td>\n",
              "      <td>-0.815108</td>\n",
              "      <td>-0.815108</td>\n",
              "      <td>1.000000</td>\n",
              "    </tr>\n",
              "  </tbody>\n",
              "</table>\n",
              "<p>2548 rows × 2548 columns</p>\n",
              "</div>\n",
              "      <button class=\"colab-df-convert\" onclick=\"convertToInteractive('df-84da0148-1523-4f3c-b980-3688865ea952')\"\n",
              "              title=\"Convert this dataframe to an interactive table.\"\n",
              "              style=\"display:none;\">\n",
              "        \n",
              "  <svg xmlns=\"http://www.w3.org/2000/svg\" height=\"24px\"viewBox=\"0 0 24 24\"\n",
              "       width=\"24px\">\n",
              "    <path d=\"M0 0h24v24H0V0z\" fill=\"none\"/>\n",
              "    <path d=\"M18.56 5.44l.94 2.06.94-2.06 2.06-.94-2.06-.94-.94-2.06-.94 2.06-2.06.94zm-11 1L8.5 8.5l.94-2.06 2.06-.94-2.06-.94L8.5 2.5l-.94 2.06-2.06.94zm10 10l.94 2.06.94-2.06 2.06-.94-2.06-.94-.94-2.06-.94 2.06-2.06.94z\"/><path d=\"M17.41 7.96l-1.37-1.37c-.4-.4-.92-.59-1.43-.59-.52 0-1.04.2-1.43.59L10.3 9.45l-7.72 7.72c-.78.78-.78 2.05 0 2.83L4 21.41c.39.39.9.59 1.41.59.51 0 1.02-.2 1.41-.59l7.78-7.78 2.81-2.81c.8-.78.8-2.07 0-2.86zM5.41 20L4 18.59l7.72-7.72 1.47 1.35L5.41 20z\"/>\n",
              "  </svg>\n",
              "      </button>\n",
              "      \n",
              "  <style>\n",
              "    .colab-df-container {\n",
              "      display:flex;\n",
              "      flex-wrap:wrap;\n",
              "      gap: 12px;\n",
              "    }\n",
              "\n",
              "    .colab-df-convert {\n",
              "      background-color: #E8F0FE;\n",
              "      border: none;\n",
              "      border-radius: 50%;\n",
              "      cursor: pointer;\n",
              "      display: none;\n",
              "      fill: #1967D2;\n",
              "      height: 32px;\n",
              "      padding: 0 0 0 0;\n",
              "      width: 32px;\n",
              "    }\n",
              "\n",
              "    .colab-df-convert:hover {\n",
              "      background-color: #E2EBFA;\n",
              "      box-shadow: 0px 1px 2px rgba(60, 64, 67, 0.3), 0px 1px 3px 1px rgba(60, 64, 67, 0.15);\n",
              "      fill: #174EA6;\n",
              "    }\n",
              "\n",
              "    [theme=dark] .colab-df-convert {\n",
              "      background-color: #3B4455;\n",
              "      fill: #D2E3FC;\n",
              "    }\n",
              "\n",
              "    [theme=dark] .colab-df-convert:hover {\n",
              "      background-color: #434B5C;\n",
              "      box-shadow: 0px 1px 3px 1px rgba(0, 0, 0, 0.15);\n",
              "      filter: drop-shadow(0px 1px 2px rgba(0, 0, 0, 0.3));\n",
              "      fill: #FFFFFF;\n",
              "    }\n",
              "  </style>\n",
              "\n",
              "      <script>\n",
              "        const buttonEl =\n",
              "          document.querySelector('#df-84da0148-1523-4f3c-b980-3688865ea952 button.colab-df-convert');\n",
              "        buttonEl.style.display =\n",
              "          google.colab.kernel.accessAllowed ? 'block' : 'none';\n",
              "\n",
              "        async function convertToInteractive(key) {\n",
              "          const element = document.querySelector('#df-84da0148-1523-4f3c-b980-3688865ea952');\n",
              "          const dataTable =\n",
              "            await google.colab.kernel.invokeFunction('convertToInteractive',\n",
              "                                                     [key], {});\n",
              "          if (!dataTable) return;\n",
              "\n",
              "          const docLinkHtml = 'Like what you see? Visit the ' +\n",
              "            '<a target=\"_blank\" href=https://colab.research.google.com/notebooks/data_table.ipynb>data table notebook</a>'\n",
              "            + ' to learn more about interactive tables.';\n",
              "          element.innerHTML = '';\n",
              "          dataTable['output_type'] = 'display_data';\n",
              "          await google.colab.output.renderOutput(dataTable, element);\n",
              "          const docLink = document.createElement('div');\n",
              "          docLink.innerHTML = docLinkHtml;\n",
              "          element.appendChild(docLink);\n",
              "        }\n",
              "      </script>\n",
              "    </div>\n",
              "  </div>\n",
              "  "
            ]
          },
          "metadata": {},
          "execution_count": 16
        }
      ],
      "source": [
        "correlations = data.corr(method='pearson')\n",
        "correlations"
      ]
    },
    {
      "cell_type": "code",
      "execution_count": 17,
      "metadata": {
        "colab": {
          "base_uri": "https://localhost:8080/"
        },
        "id": "VBhqrD0iFsiE",
        "outputId": "07393cde-10b8-4516-ff26-031060167b6e"
      },
      "outputs": [
        {
          "output_type": "execute_result",
          "data": {
            "text/plain": [
              "(2132,)"
            ]
          },
          "metadata": {},
          "execution_count": 17
        }
      ],
      "source": [
        "y.shape"
      ]
    },
    {
      "cell_type": "code",
      "execution_count": 18,
      "metadata": {
        "colab": {
          "base_uri": "https://localhost:8080/"
        },
        "id": "Wq_ttH6DFsiF",
        "outputId": "9d8ed7c3-0e9d-44e3-b0d0-734d84a2f3ed"
      },
      "outputs": [
        {
          "output_type": "execute_result",
          "data": {
            "text/plain": [
              "0       NEGATIVE\n",
              "1        NEUTRAL\n",
              "2       POSITIVE\n",
              "3       POSITIVE\n",
              "4        NEUTRAL\n",
              "          ...   \n",
              "2127     NEUTRAL\n",
              "2128    POSITIVE\n",
              "2129    NEGATIVE\n",
              "2130    NEGATIVE\n",
              "2131     NEUTRAL\n",
              "Name: label, Length: 2132, dtype: object"
            ]
          },
          "metadata": {},
          "execution_count": 18
        }
      ],
      "source": [
        "y"
      ]
    },
    {
      "cell_type": "code",
      "execution_count": 19,
      "metadata": {
        "colab": {
          "base_uri": "https://localhost:8080/"
        },
        "id": "UCrpeiSPFsiH",
        "outputId": "baea3575-8319-4c9b-a689-c0d294897156"
      },
      "outputs": [
        {
          "output_type": "execute_result",
          "data": {
            "text/plain": [
              "(2132, 2548)"
            ]
          },
          "metadata": {},
          "execution_count": 19
        }
      ],
      "source": [
        "X.shape"
      ]
    },
    {
      "cell_type": "markdown",
      "metadata": {
        "id": "ksNrRGSyFsid"
      },
      "source": [
        "# RandomForest Classifier\n",
        "RandomForest is a tree & bagging approach-based ensemble classifier. It will automatically reduce the number of features by its probabilistic entropy calculation approach."
      ]
    },
    {
      "cell_type": "code",
      "source": [
        "label_df = data['label']"
      ],
      "metadata": {
        "id": "XNuSLWmvDdTw"
      },
      "execution_count": 20,
      "outputs": []
    },
    {
      "cell_type": "code",
      "source": [
        "# Make a copy of the original dataframe\n",
        "data_copy = data.copy()\n",
        "\n",
        "# Drop the label column from the copy\n",
        "data_copy.drop('label', axis=1, inplace=True)\n",
        "\n",
        "# Rename the copy\n",
        "data_no_label = data_copy\n"
      ],
      "metadata": {
        "id": "h1qg3Y2xDwU4"
      },
      "execution_count": 21,
      "outputs": []
    },
    {
      "cell_type": "code",
      "source": [
        "from sklearn.model_selection import train_test_split, cross_val_score\n",
        "from sklearn.ensemble import RandomForestClassifier\n",
        "from sklearn.preprocessing import LabelEncoder, MinMaxScaler\n",
        "from yellowbrick.classifier import ClassPredictionError\n",
        "\n",
        "# Load dataset and encode categorical variables\n",
        "encoder = LabelEncoder()\n",
        "label_df = encoder.fit_transform(label_df)\n",
        "\n",
        "# Scale input features to non-negative values\n",
        "scaler = MinMaxScaler()\n",
        "brainwave_df = scaler.fit_transform(data_no_label)\n",
        "\n",
        "# Define the classes for the visualizer\n",
        "classes = ['NEGATIVE', 'NEUTRAL', 'POSITIVE']\n",
        "\n",
        "# Split the dataset into training and test sets\n",
        "X_train, X_test, y_train, y_test = train_test_split(brainwave_df, label_df, test_size=0.2, random_state=42)\n",
        "\n",
        "# Instantiate the classification model and visualizer\n",
        "visualizer = ClassPredictionError(RandomForestClassifier(n_estimators=10), classes=classes)\n",
        "\n",
        "# Fit the training data to the visualizer\n",
        "visualizer.fit(X_train, y_train)\n",
        "\n",
        "# Evaluate the model on the test data\n",
        "visualizer.score(X_test, y_test)\n",
        "\n",
        "# Draw visualization\n",
        "visualizer.poof()\n"
      ],
      "metadata": {
        "colab": {
          "base_uri": "https://localhost:8080/",
          "height": 586
        },
        "id": "c9CFoodFCS6Z",
        "outputId": "1ad9b778-e069-4506-8f2f-e1a26f203b84"
      },
      "execution_count": 22,
      "outputs": [
        {
          "output_type": "display_data",
          "data": {
            "text/plain": [
              "<Figure size 800x550 with 1 Axes>"
            ],
            "image/png": "[encoded data removed]"
          },
          "metadata": {}
        },
        {
          "output_type": "execute_result",
          "data": {
            "text/plain": [
              "<Axes: title={'center': 'Class Prediction Error for RandomForestClassifier'}, xlabel='actual class', ylabel='number of predicted class'>"
            ]
          },
          "metadata": {},
          "execution_count": 22
        }
      ]
    },
    {
      "cell_type": "code",
      "execution_count": 24,
      "metadata": {
        "id": "DrVlBtyBFsij",
        "colab": {
          "base_uri": "https://localhost:8080/"
        },
        "outputId": "4b6fa9c2-7ae7-4830-9cec-8638b2cab5b6"
      },
      "outputs": [
        {
          "output_type": "stream",
          "name": "stdout",
          "text": [
            "Accuracy for RandomForest: 0.9868698170330393\n"
          ]
        }
      ],
      "source": [
        "# Evaluate the model using cross-validation\n",
        "pl_random_forest = Pipeline(steps=[('random_forest', RandomForestClassifier())])\n",
        "scores = cross_val_score(pl_random_forest, brainwave_df, label_df, cv=10, scoring='accuracy')\n",
        "print('Accuracy for RandomForest:', scores.mean())"
      ]
    },
    {
      "cell_type": "code",
      "source": [
        "from sklearn.metrics import classification_report, confusion_matrix\n",
        "\n",
        "# Split the data into training and test sets\n",
        "X_train, X_test, y_train, y_test = train_test_split(brainwave_df, label_df, test_size=0.2, random_state=42)\n",
        "\n",
        "# Fit the random forest model\n",
        "pl_random_forest.fit(X_train, y_train)\n",
        "\n",
        "# Generate predictions on the test set\n",
        "y_pred = pl_random_forest.predict(X_test)\n",
        "\n",
        "\n"
      ],
      "metadata": {
        "id": "kEMPyneUJxTz"
      },
      "execution_count": 26,
      "outputs": []
    },
    {
      "cell_type": "code",
      "source": [
        "# Print the classification report\n",
        "print(classification_report(y_test, y_pred))\n"
      ],
      "metadata": {
        "colab": {
          "base_uri": "https://localhost:8080/"
        },
        "id": "0INIO6ZRi0CJ",
        "outputId": "ad6cd748-1d5b-46ab-ab22-fc084fd93c53"
      },
      "execution_count": 27,
      "outputs": [
        {
          "output_type": "stream",
          "name": "stdout",
          "text": [
            "              precision    recall  f1-score   support\n",
            "\n",
            "           0       0.99      0.99      0.99       143\n",
            "           1       1.00      1.00      1.00       148\n",
            "           2       0.99      0.99      0.99       136\n",
            "\n",
            "    accuracy                           0.99       427\n",
            "   macro avg       0.99      0.99      0.99       427\n",
            "weighted avg       0.99      0.99      0.99       427\n",
            "\n"
          ]
        }
      ]
    },
    {
      "cell_type": "code",
      "source": [
        "# Print the confusion matrix\n",
        "print(confusion_matrix(y_test, y_pred))"
      ],
      "metadata": {
        "colab": {
          "base_uri": "https://localhost:8080/"
        },
        "id": "BtyKaqHOi-5W",
        "outputId": "4ee99cb2-837d-42f2-84a6-f13716b8bb57"
      },
      "execution_count": 28,
      "outputs": [
        {
          "output_type": "stream",
          "name": "stdout",
          "text": [
            "[[141   0   2]\n",
            " [  0 148   0]\n",
            " [  2   0 134]]\n"
          ]
        }
      ]
    },
    {
      "cell_type": "code",
      "source": [
        "import seaborn as sns\n",
        "import matplotlib.pyplot as plt\n",
        "from sklearn.metrics import confusion_matrix\n",
        "\n",
        "# Assuming you have already defined y_true and y_pred\n",
        "cm = confusion_matrix(y_test, y_pred)\n",
        "\n",
        "# Create a heatmap\n",
        "sns.heatmap(cm, annot=True, cmap='Blues', fmt='g')\n",
        "plt.xlabel('Predicted labels')\n",
        "plt.ylabel('True labels')\n",
        "plt.title('Confusion Matrix')\n",
        "plt.show()\n"
      ],
      "metadata": {
        "colab": {
          "base_uri": "https://localhost:8080/",
          "height": 524
        },
        "id": "ETa708grK6HO",
        "outputId": "d0de8421-cdd3-44ab-ae4f-3295b2e5cee4"
      },
      "execution_count": 29,
      "outputs": [
        {
          "output_type": "display_data",
          "data": {
            "text/plain": [
              "<Figure size 800x550 with 2 Axes>"
            ],
            "image/png": "[encoded data removed]"
          },
          "metadata": {}
        }
      ]
    },
    {
      "cell_type": "markdown",
      "metadata": {
        "id": "xFLIxOSYFsil"
      },
      "source": [
        "# Logistic Regression Classifier\n",
        "Logistic Regression is a linear classifier and works in same way as linear regression."
      ]
    },
    {
      "cell_type": "code",
      "execution_count": 30,
      "metadata": {
        "id": "zmE5_lDdFsio",
        "colab": {
          "base_uri": "https://localhost:8080/"
        },
        "outputId": "b2fff7a9-bc92-4def-d579-6d785b55e922"
      },
      "outputs": [
        {
          "output_type": "stream",
          "name": "stdout",
          "text": [
            "Accuracy for Logistic Regression:  0.9319972796279232\n",
            "CPU times: user 3min 41s, sys: 1.28 s, total: 3min 42s\n",
            "Wall time: 3min 46s\n"
          ]
        }
      ],
      "source": [
        "%%time\n",
        "\n",
        "pl_log_reg = Pipeline(steps=[('scaler',StandardScaler()),\n",
        "                             ('log_reg', LogisticRegression(multi_class='multinomial', solver='saga', max_iter=200))])\n",
        "scores = cross_val_score(pl_log_reg, brainwave_df, label_df, cv=10,scoring='accuracy')\n",
        "print('Accuracy for Logistic Regression: ', scores.mean())"
      ]
    },
    {
      "cell_type": "code",
      "source": [
        "from sklearn.metrics import classification_report, confusion_matrix\n",
        "import seaborn as sns\n",
        "\n",
        "# Train-test split\n",
        "X_train, X_test, y_train, y_test = train_test_split(brainwave_df, label_df, test_size=0.2, random_state=42)\n",
        "\n",
        "# Fit the pipeline\n",
        "pl_log_reg.fit(X_train, y_train)\n",
        "\n",
        "# Predict the test set labels\n",
        "y_pred = pl_log_reg.predict(X_test)\n",
        "\n"
      ],
      "metadata": {
        "id": "IzyphqumLeFp"
      },
      "execution_count": 34,
      "outputs": []
    },
    {
      "cell_type": "code",
      "source": [
        "# Generate classification report and confusion matrix\n",
        "print(\"Classification Report:\\n\", classification_report(y_test, y_pred))\n",
        "print(\"Confusion Matrix:\\n\", confusion_matrix(y_test, y_pred))"
      ],
      "metadata": {
        "colab": {
          "base_uri": "https://localhost:8080/"
        },
        "id": "4fmvI6k4knhy",
        "outputId": "cb92e0e8-6ec7-408e-f14b-e15ba55f3a7a"
      },
      "execution_count": 35,
      "outputs": [
        {
          "output_type": "stream",
          "name": "stdout",
          "text": [
            "Classification Report:\n",
            "               precision    recall  f1-score   support\n",
            "\n",
            "           0       0.89      0.99      0.93       143\n",
            "           1       0.99      0.99      0.99       148\n",
            "           2       0.97      0.86      0.91       136\n",
            "\n",
            "    accuracy                           0.95       427\n",
            "   macro avg       0.95      0.94      0.94       427\n",
            "weighted avg       0.95      0.95      0.95       427\n",
            "\n",
            "Confusion Matrix:\n",
            " [[141   0   2]\n",
            " [  0 146   2]\n",
            " [ 18   1 117]]\n"
          ]
        }
      ]
    },
    {
      "cell_type": "code",
      "source": [
        "# Generate heatmap for confusion matrix\n",
        "sns.heatmap(confusion_matrix(y_test, y_pred), annot=True, fmt='d', cmap='Blues')\n",
        "plt.title(\"Confusion Matrix for Logistic Regression\")\n",
        "plt.show()\n"
      ],
      "metadata": {
        "colab": {
          "base_uri": "https://localhost:8080/",
          "height": 504
        },
        "id": "dp172pmvkqCo",
        "outputId": "a058f7bd-1e3a-40e3-a458-8a186e0e67e3"
      },
      "execution_count": 36,
      "outputs": [
        {
          "output_type": "display_data",
          "data": {
            "text/plain": [
              "<Figure size 800x550 with 2 Axes>"
            ],
            "image/png": "[encoded data removed]"
          },
          "metadata": {}
        }
      ]
    }
  ],
  "metadata": {
    "kernelspec": {
      "display_name": "Python 3",
      "language": "python",
      "name": "python3"
    },
    "language_info": {
      "codemirror_mode": {
        "name": "ipython",
        "version": 3
      },
      "file_extension": ".py",
      "mimetype": "text/x-python",
      "name": "python",
      "nbconvert_exporter": "python",
      "pygments_lexer": "ipython3",
      "version": "3.7.3"
    },
    "colab": {
      "provenance": [],
      "gpuType": "T4"
    },
    "accelerator": "GPU",
    "gpuClass": "standard"
  },
  "nbformat": 4,
  "nbformat_minor": 0
}